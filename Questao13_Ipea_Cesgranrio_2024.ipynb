{
 "cells": [
  {
   "cell_type": "code",
   "execution_count": 1,
   "metadata": {},
   "outputs": [
    {
     "name": "stdout",
     "output_type": "stream",
     "text": [
      "   cod_produto nome_produto grupo_alimentar\n",
      "0         1001         Maçã          Frutas\n",
      "1         1002       Banana          Frutas\n",
      "2         1003      Cenoura         Legumes\n",
      "3         1004          Pão           Grãos\n",
      "4         1005        Leite      Laticínios\n",
      "5         1006       Queijo      Laticínios\n",
      "6         1007        Arroz           Grãos\n",
      "7         1008       Feijão           Grãos\n",
      "8         1009       Frango       Proteínas\n",
      "9         1010        Peixe       Proteínas\n"
     ]
    }
   ],
   "source": [
    "import pandas as pd\n",
    "\n",
    "# Dados fictícios para o DataFrame\n",
    "dados_produto = {\n",
    "    'cod_produto': [1001, 1002, 1003, 1004, 1005, 1006, 1007, 1008, 1009, 1010],\n",
    "    'nome_produto': ['Maçã', 'Banana', 'Cenoura', 'Pão', 'Leite', 'Queijo', 'Arroz', 'Feijão', 'Frango', 'Peixe'],\n",
    "    'grupo_alimentar': ['Frutas', 'Frutas', 'Legumes', 'Grãos', 'Laticínios', 'Laticínios', 'Grãos', 'Grãos', 'Proteínas', 'Proteínas']\n",
    "}\n",
    "\n",
    "# Criando o DataFrame\n",
    "produto = pd.DataFrame(dados_produto)\n",
    "\n",
    "# Exibindo o DataFrame\n",
    "print(produto)\n"
   ]
  },
  {
   "cell_type": "code",
   "execution_count": 2,
   "metadata": {},
   "outputs": [
    {
     "name": "stdout",
     "output_type": "stream",
     "text": [
      "             CNPJ          nome_empresa                  tipo\n",
      "0  12345678901234         Fazenda Feliz  agricultura familiar\n",
      "1  23456789012345         Plantio Verde                 outro\n",
      "2  34567890123456      Cooperativa Agro  agricultura familiar\n",
      "3  45678901234567    Padaria Pão Quente                 outro\n",
      "4  56789012345678  Laticínios Saborosos  agricultura familiar\n",
      "5  67890123456789   Queijaria Artesanal  agricultura familiar\n",
      "6  78901234567890     Mercado Econômico                 outro\n",
      "7  89012345678901     Armazém do Feijão                 outro\n",
      "8  90123456789012     Frangos da Granja  agricultura familiar\n",
      "9  01234567890123          Peixaria Mar                 outro\n"
     ]
    }
   ],
   "source": [
    "import pandas as pd\n",
    "\n",
    "# Dados fictícios para o DataFrame\n",
    "dados_fornecedor = {\n",
    "    'CNPJ': ['12345678901234', '23456789012345', '34567890123456', '45678901234567', '56789012345678',\n",
    "             '67890123456789', '78901234567890', '89012345678901', '90123456789012', '01234567890123'],\n",
    "    'nome_empresa': ['Fazenda Feliz', 'Plantio Verde', 'Cooperativa Agro', 'Padaria Pão Quente', 'Laticínios Saborosos',\n",
    "                     'Queijaria Artesanal', 'Mercado Econômico', 'Armazém do Feijão', 'Frangos da Granja', 'Peixaria Mar'],\n",
    "    'tipo': ['agricultura familiar', 'outro', 'agricultura familiar', 'outro', 'agricultura familiar',\n",
    "             'agricultura familiar', 'outro', 'outro', 'agricultura familiar', 'outro']\n",
    "}\n",
    "\n",
    "# Criando o DataFrame\n",
    "fornecedor = pd.DataFrame(dados_fornecedor)\n",
    "\n",
    "# Exibindo o DataFrame\n",
    "print(fornecedor)\n"
   ]
  },
  {
   "cell_type": "code",
   "execution_count": 3,
   "metadata": {},
   "outputs": [
    {
     "name": "stdout",
     "output_type": "stream",
     "text": [
      "             CNPJ  cod_produto       data  quantidade          valor\n",
      "0  23456789012345         1004 2024-01-08       10184  661384.779100\n",
      "1  56789012345678         1004 2024-01-04       10059  445826.286051\n",
      "2  45678901234567         1004 2024-01-03       10129  904373.103767\n",
      "3  12345678901234         1001 2024-01-08        9692  934334.128003\n",
      "4  45678901234567         1002 2024-01-03       10335  402658.941609\n",
      "5  12345678901234         1002 2024-01-01       10263  814684.932518\n",
      "6  34567890123456         1002 2024-01-01       10207  544651.614146\n",
      "7  45678901234567         1001 2024-01-05        9859  564293.781455\n",
      "8  12345678901234         1003 2024-01-06        9509  880857.344919\n",
      "9  23456789012345         1005 2024-01-06       10223   82116.960673\n"
     ]
    }
   ],
   "source": [
    "import pandas as pd\n",
    "import numpy as np\n",
    "\n",
    "# Dados fictícios para o DataFrame\n",
    "np.random.seed(0)  # Para garantir a reprodutibilidade dos números aleatórios\n",
    "cnpjs = ['12345678901234', '23456789012345', '34567890123456', '45678901234567', '56789012345678']\n",
    "cod_produtos = [1001, 1002, 1003, 1004, 1005]\n",
    "datas = pd.date_range(start='2024-01-01', end='2024-01-10')\n",
    "quantidades = np.random.randint(9500, 10500, size=10)\n",
    "valores_unitarios = np.random.uniform(1, 100, size=10)\n",
    "\n",
    "# Calculando os valores totais\n",
    "valores_totais = quantidades * valores_unitarios\n",
    "\n",
    "# Criando o DataFrame\n",
    "dados_comprado = {\n",
    "    'CNPJ': np.random.choice(cnpjs, size=10),\n",
    "    'cod_produto': np.random.choice(cod_produtos, size=10),\n",
    "    'data': np.random.choice(datas, size=10),\n",
    "    'quantidade': quantidades,\n",
    "    'valor': valores_totais\n",
    "}\n",
    "\n",
    "comprado = pd.DataFrame(dados_comprado)\n",
    "\n",
    "# Exibindo o DataFrame\n",
    "print(comprado)\n"
   ]
  },
  {
   "cell_type": "code",
   "execution_count": 4,
   "metadata": {},
   "outputs": [],
   "source": [
    "import sqlite3\n",
    "# Create your connection.\n",
    "cnx = sqlite3.connect(':memory:')"
   ]
  },
  {
   "cell_type": "code",
   "execution_count": 5,
   "metadata": {},
   "outputs": [],
   "source": [
    "produto.to_sql(name=\"produto\", con=cnx)\n",
    "fornecedor.to_sql(name=\"fornecedor\", con=cnx)\n",
    "comprado.to_sql(name=\"comprado\", con=cnx)"
   ]
  },
  {
   "cell_type": "code",
   "execution_count": 6,
   "metadata": {},
   "outputs": [],
   "source": [
    "resultado =pd.read_sql(\"\"\"SELECT P.cod_produto, SUM (quantidade)\n",
    "FROM produto P, fornecedor F, comprado C\n",
    "WHERE P.cod_produto = C.cod_produto\n",
    "AND C.CNPJ = F.CNPJ\n",
    "AND F.tipo = 'agricultura familiar'\n",
    "GROUP BY P.cod_produto\n",
    "HAVING SUM (quantidade) > 10000\"\"\", cnx)"
   ]
  },
  {
   "cell_type": "code",
   "execution_count": 7,
   "metadata": {},
   "outputs": [
    {
     "data": {
      "text/html": [
       "<div>\n",
       "<style scoped>\n",
       "    .dataframe tbody tr th:only-of-type {\n",
       "        vertical-align: middle;\n",
       "    }\n",
       "\n",
       "    .dataframe tbody tr th {\n",
       "        vertical-align: top;\n",
       "    }\n",
       "\n",
       "    .dataframe thead th {\n",
       "        text-align: right;\n",
       "    }\n",
       "</style>\n",
       "<table border=\"1\" class=\"dataframe\">\n",
       "  <thead>\n",
       "    <tr style=\"text-align: right;\">\n",
       "      <th></th>\n",
       "      <th>cod_produto</th>\n",
       "      <th>SUM (quantidade)</th>\n",
       "    </tr>\n",
       "  </thead>\n",
       "  <tbody>\n",
       "    <tr>\n",
       "      <th>0</th>\n",
       "      <td>1002</td>\n",
       "      <td>20470</td>\n",
       "    </tr>\n",
       "    <tr>\n",
       "      <th>1</th>\n",
       "      <td>1004</td>\n",
       "      <td>10059</td>\n",
       "    </tr>\n",
       "  </tbody>\n",
       "</table>\n",
       "</div>"
      ],
      "text/plain": [
       "   cod_produto  SUM (quantidade)\n",
       "0         1002             20470\n",
       "1         1004             10059"
      ]
     },
     "execution_count": 7,
     "metadata": {},
     "output_type": "execute_result"
    }
   ],
   "source": [
    "# a tabela resultado apenas dispõe do código de produto e sua quantidade vendida\n",
    "# o resultado é adequado apenas ao item (e)\n",
    "# o fornecedor não está incluso no resultado, logo o item (b) não\n",
    "resultado"
   ]
  }
 ],
 "metadata": {
  "kernelspec": {
   "display_name": "venv",
   "language": "python",
   "name": "python3"
  },
  "language_info": {
   "codemirror_mode": {
    "name": "ipython",
    "version": 3
   },
   "file_extension": ".py",
   "mimetype": "text/x-python",
   "name": "python",
   "nbconvert_exporter": "python",
   "pygments_lexer": "ipython3",
   "version": "3.7.9"
  }
 },
 "nbformat": 4,
 "nbformat_minor": 2
}
